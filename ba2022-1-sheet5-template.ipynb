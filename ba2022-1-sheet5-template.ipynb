{
 "cells": [
  {
   "cell_type": "code",
   "execution_count": null,
   "metadata": {},
   "outputs": [],
   "source": [
    "import numpy as np\n",
    "from scipy.stats import multivariate_normal as N\n",
    "import matplotlib.pyplot as plt\n",
    "from matplotlib import cm\n",
    "import pandas as pd\n",
    "\n",
    "def plot_gaussian_mixture(mu, cov, P, X = None, granularity = 50):\n",
    "    \n",
    "    if len(mu[0]) > 2:\n",
    "        raise Exception(\"Plotting supported only for 2D data.\")\n",
    "    if len(mu) != len(cov):\n",
    "        raise Exception(\"mu and cov don't have same length\")\n",
    "    if len(mu) != len(P):\n",
    "        raise Exception(\"mu and P don't have same length\")\n",
    "    \n",
    "    # set up mixted density function (slide 16)\n",
    "    f = lambda x: sum([N.pdf(x, mu[i], cov[i]) * P[i]  for i in range(len(mu))])\n",
    "          \n",
    "    # create grid\n",
    "    min_x1, max_x1 = np.inf, -np.inf\n",
    "    min_x2, max_x2 = np.inf, -np.inf\n",
    "    span = 5\n",
    "    for i in range(len(mu)):\n",
    "        min_x1 = min(min_x1, mu[i][0] - span * cov[i][0,0])\n",
    "        min_x2 = min(min_x2, mu[i][1] - span * cov[i][1,1])\n",
    "        max_x1 = max(max_x1, mu[i][0] + span * cov[i][0,0])\n",
    "        max_x2 = max(max_x2, mu[i][1] + span * cov[i][1,1])\n",
    "    min_x1 -= 1\n",
    "    min_x2 -= 1\n",
    "    max_x1 += 1\n",
    "    max_x2 += 1\n",
    "    X1 = np.linspace(min_x1, max_x1, granularity)\n",
    "    X2 = np.linspace(min_x2, max_x2, granularity)\n",
    "    Z = np.zeros((granularity, granularity))\n",
    "    \n",
    "    # compute densities in grid\n",
    "    M_X1, M_X2 = np.meshgrid(X1, X2)\n",
    "    for i in range(granularity):\n",
    "        for j in range(granularity):\n",
    "            x1, x2 = M_X1[i,j], M_X2[i,j]\n",
    "            Z[i,j] = f([x1,x2])\n",
    "    \n",
    "    # create 3D plot with surface\n",
    "    fig, ax = plt.subplots(subplot_kw={\"projection\": \"3d\"}, figsize=(10, 10))\n",
    "    ax.plot_wireframe(M_X1, M_X2, Z, linewidth=1,alpha=0.6)\n",
    "    ax.set_xlim(min_x1, max_x1)\n",
    "    ax.set_ylim(min_x2, max_x2)\n",
    "    ax.set_xlabel(\"X1\")\n",
    "    ax.set_ylabel(\"X2\")\n",
    "    \n",
    "    # scatter the points into the plot\n",
    "    if X is not None:\n",
    "        ax.scatter(X[:,0], X[:,1], 0)"
   ]
  },
  {
   "cell_type": "markdown",
   "metadata": {},
   "source": [
    "# Exercise 2"
   ]
  },
  {
   "cell_type": "markdown",
   "metadata": {},
   "source": [
    "## Plots\n",
    "### Dependent"
   ]
  },
  {
   "cell_type": "code",
   "execution_count": null,
   "metadata": {
    "scrolled": false
   },
   "outputs": [],
   "source": [
    "%matplotlib notebook\n",
    "Iris_pca = pd.read_csv(\"iris_pca.csv\").values\n",
    "mu_init = [np.array(mu) for mu in [[-3.59, 0.25], [-1.09, -0.46], [0.75, 1.07]]]\n",
    "cov_init = [np.eye(2) for i in range(3)]\n",
    "probs, mu, cov, P = EM(Iris_pca, 3, 0.001, mu=mu_init, cov=cov_init, independent=False)\n",
    "print(np.round(mu, 2), np.round(cov, 2), np.round(P, 2))\n",
    "plot_gaussian_mixture(mu, cov, P, Iris_pca)"
   ]
  },
  {
   "cell_type": "markdown",
   "metadata": {},
   "source": [
    "### Independent"
   ]
  },
  {
   "cell_type": "code",
   "execution_count": null,
   "metadata": {},
   "outputs": [],
   "source": [
    "%matplotlib notebook\n",
    "Iris_pca = pd.read_csv(\"iris_pca.csv\").values\n",
    "mu_init = [np.array(mu) for mu in [[-3.59, 0.25], [-1.09, -0.46], [0.75, 1.07]]]\n",
    "cov_init = [np.eye(2) for i in range(3)]\n",
    "probs, mu, cov, P = EM(Iris_pca, 3, 0.001, mu=mu_init, cov=cov_init, independent=True)\n",
    "print(np.round(mu, 2), np.round(cov, 2), np.round(P, 2))\n",
    "plot_gaussian_mixture(mu, cov, P, Iris_pca)"
   ]
  }
 ],
 "metadata": {
  "kernelspec": {
   "display_name": "Python 3",
   "language": "python",
   "name": "python3"
  },
  "language_info": {
   "codemirror_mode": {
    "name": "ipython",
    "version": 3
   },
   "file_extension": ".py",
   "mimetype": "text/x-python",
   "name": "python",
   "nbconvert_exporter": "python",
   "pygments_lexer": "ipython3",
   "version": "3.7.11"
  }
 },
 "nbformat": 4,
 "nbformat_minor": 2
}
